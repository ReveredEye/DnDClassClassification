{
 "cells": [
  {
   "cell_type": "markdown",
   "metadata": {},
   "source": [
    "##### Basic Model monitoring"
   ]
  },
  {
   "cell_type": "code",
   "execution_count": 2,
   "metadata": {},
   "outputs": [],
   "source": [
    "\n",
    "import os\n",
    "import pickle\n",
    "import pandas as pd\n",
    "import mlflow\n",
    "import mlflow.pyfunc\n",
    "from mlflow.tracking import MlflowClient\n",
    "from sklearn.ensemble import RandomForestClassifier\n",
    "from sklearn.metrics import accuracy_score\n",
    "\n",
    "from evidently import ColumnMapping\n",
    "from evidently.report import Report\n",
    "from evidently.metrics import ColumnDriftMetric, ColumnQuantileMetric, DatasetDriftMetric, DatasetMissingValuesMetric,\\\n",
    "    DatasetCorrelationsMetric\n",
    "\n",
    "from joblib import load, dump\n",
    "from tqdm import tqdm"
   ]
  },
  {
   "cell_type": "code",
   "execution_count": 3,
   "metadata": {},
   "outputs": [],
   "source": [
    "def get_model_from_registry(version_no = None):\n",
    "    mlflow.set_tracking_uri('sqlite:///mlflow.db')\n",
    "    model_name = 'best-DnD-RFModel'\n",
    "    if version_no is not None:\n",
    "        model_version = version_no\n",
    "    else:\n",
    "        client = MlflowClient(tracking_uri = \"sqlite:///mlflow.db\")\n",
    "        # Below will return warning as get_latest_versions is deprecated in mlflow since 2.9.0\n",
    "        meta_data = client.get_latest_versions(model_name, stages = [\"None\"])\n",
    "        model_version = meta_data[0].version\n",
    "    try: \n",
    "        model = mlflow.pyfunc.load_model(model_uri = f\"models:/{model_name}/{model_version}\")\n",
    "    except OSError as ose:\n",
    "        metadata_source = meta_data[0].source\n",
    "        idx = metadata_source.index('/mlruns')\n",
    "        path = os.getcwd() + metadata_source[idx:] + '/model.pkl'\n",
    "        with open(path, 'rb') as modelFile:\n",
    "            model = pickle.load(modelFile)\n",
    "    return model"
   ]
  }
 ],
 "metadata": {
  "kernelspec": {
   "display_name": "DnDClassClassification-xWHPWLXO",
   "language": "python",
   "name": "python3"
  },
  "language_info": {
   "codemirror_mode": {
    "name": "ipython",
    "version": 3
   },
   "file_extension": ".py",
   "mimetype": "text/x-python",
   "name": "python",
   "nbconvert_exporter": "python",
   "pygments_lexer": "ipython3",
   "version": "3.10.13"
  }
 },
 "nbformat": 4,
 "nbformat_minor": 2
}
