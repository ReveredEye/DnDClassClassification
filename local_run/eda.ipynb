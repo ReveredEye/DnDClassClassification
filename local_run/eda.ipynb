{
 "cells": [
  {
   "cell_type": "markdown",
   "metadata": {},
   "source": [
    "##### Notebook to explore the data"
   ]
  },
  {
   "cell_type": "code",
   "execution_count": 26,
   "metadata": {},
   "outputs": [],
   "source": [
    "from difflib import SequenceMatcher\n",
    "import pandas as pd"
   ]
  },
  {
   "cell_type": "code",
   "execution_count": 3,
   "metadata": {},
   "outputs": [],
   "source": [
    "df_example = pd.read_csv(\"https://raw.githubusercontent.com/oganm/dnddata/master/data-raw/dnd_chars_all.tsv\", sep = '\\t')"
   ]
  },
  {
   "cell_type": "code",
   "execution_count": 5,
   "metadata": {},
   "outputs": [
    {
     "data": {
      "text/plain": [
       "rec.array([(0, nan, 'ed15f9d', 'fe3ed6570067d2cd808bcee0a4396824', 'ee1e382c', 'Hill Dwarf', 'Guild Member - Justice', '2022-08-23T20:02:11Z', 'Sorcerer 13|Cleric 1', 'Sorcerer|Cleric', 'Clockwork Soul|Order Domain', 14, 'Fey Touched|War Caster|Metamagic Adept', 146, 10,  9, 11, 20, 14, 14, 20, nan, 'Arcana|Religion|Intimidation', 'Crossbow, light|Dagger', 'Alarm*1|Protection from Evil and Good*1|Command*1|Heroism*1|Aid*2|Lesser Restoration*2|Dispel Magic*3|Protection from Energy*3|Freedom of Movement*4|Summon Construct*4|Greater Restoration*5|Wall of Force*5', 'Cha', 'metamagic/Twinned Spell*Subtle Spell*Quickened Spell*Extended Spell', 'Canada', 'CA', nan, nan, nan, 'Dwarf', 'Alarm*1|Protection from Evil and Good*1|Command*1|Heroism*1|Aid*2|Lesser Restoration*2|Dispel Magic*3|Protection from Energy*3|Freedom of Movement*4|*|Greater Restoration*5|Wall of Force*5', 'Crossbow, Light|Dagger', 'thirsty_davinci'),\n",
       "           (1, nan, 'ed15f9d', 'aa656cef94740b1da714d82782d8a8c4', 'ee1e382c', 'Hill Dwarf', 'Guild Member - Justice', '2022-08-23T19:43:25Z', 'Sorcerer 13|Cleric 1', 'Sorcerer|Cleric', 'Clockwork Soul|Order Domain', 14, nan, 133, 10,  9, 11, 18, 14, 14, 20, nan, 'Arcana|Religion|Intimidation', 'Crossbow, light|Dagger', 'Alarm*1|Protection from Evil and Good*1|Command*1|Heroism*1|Aid*2|Lesser Restoration*2|Dispel Magic*3|Protection from Energy*3|Freedom of Movement*4|Summon Construct*4|Greater Restoration*5|Wall of Force*5', 'Cha', 'metamagic/Twinned Spell*Subtle Spell*Quickened Spell', 'Canada', 'CA', nan, nan, nan, 'Dwarf', 'Alarm*1|Protection from Evil and Good*1|Command*1|Heroism*1|Aid*2|Lesser Restoration*2|Dispel Magic*3|Protection from Energy*3|Freedom of Movement*4|*|Greater Restoration*5|Wall of Force*5', 'Crossbow, Light|Dagger', 'thirsty_davinci'),\n",
       "           (2, '6b5d3f4', 'd922658', '04b9abba9ce759ef13319c520bf0eb69', 'f1f6ff43', 'Human', 'Noble', '2022-08-22T14:57:09Z', 'Fighter 13', 'Fighter', 'Eldritch Knight', 13, 'Heavy Armor Master', 140, 21, 20, 12, 19, 14, 11, 10, 'CG', 'History|Insight|Perception|Persuasion', 'Longsword +1|Dagger|Crossbow, light|Mace Of Disruption ', 'Prestidigitation*0|Mage Hand*0|Blade Ward*0|Light*0|Alarm*1|Burning Hands*1|Unseen Servant*1|Chromatic Orb*1|Magic Missile*1|Identify*1|Detect Magic*1|Absorb Elements*1|Armor of Agathys*1|Shatter*2|Misty Step*2|Enlarge/Reduce*2|Catnap*3', 'Int', 'fighting style/Defense', 'United States', 'US', 'CG', nan, nan, 'Human', 'Prestidigitation*0|Mage Hand*0|Blade Ward*0|Light*0|Alarm*1|Burning Hands*1|Unseen Servant*1|Chromatic Orb*1|Magic Missile*1|Identify*1|Detect Magic*1|Absorb Elements*1|Armor of Agathys*1|Shatter*2|Misty Step*2|Enlarge/Reduce*2|Catnap*3', 'Longsword|Dagger|Crossbow, Light|Mace', 'cool_bhabha'),\n",
       "           (3, '9b7218f', 'b5d19a0', 'ba92372c716a832e03e866447cb2d102', 'f92bdd74', 'Fallen Aasimar', 'Outlander', '2022-08-22T12:12:53Z', 'Sorcerer 3|Druid 2', 'Sorcerer|Druid', 'Shadow Magic|Circle of Wildfire',  5, nan,  34, 16,  8, 10, 14, 10, 16, 16, 'Caltico Neutro', 'Athletics|Arcana|Insight|Survival', 'Dagger', 'Burning Hands*1|Cure Wounds*1|Darkness*2', 'Cha', 'metamagic/Transmuted Spell*Seeking Spell', 'Brazil', 'BR', nan, nan, nan, 'Aasimar', 'Burning Hands*1|Cure Wounds*1|Darkness*2', 'Dagger', 'vigilant_mcclintock'),\n",
       "           (4, '9b7218f', 'b5d19a0', '2f4a637dd42b9aa945abf870fe34edcf', 'f92bdd74', 'Fallen Aasimar', 'Outlander', '2022-08-22T12:07:21Z', 'Sorcerer 3|Druid 2', 'Sorcerer|Druid', 'Shadow Magic|Circle of Wildfire',  5, nan,  34, 16,  8, 10, 14, 10, 16, 16, 'Caltico Neutro', 'Athletics|Arcana|Insight|Survival', 'Dagger', 'Burning Hands*1|Cure Wounds*1|Darkness*2', 'Cha', 'metamagic/Transmuted Spell*Seeking Spell', 'Brazil', 'BR', nan, nan, nan, 'Aasimar', 'Burning Hands*1|Cure Wounds*1|Darkness*2', 'Dagger', 'vigilant_mcclintock')],\n",
       "          dtype=[('index', '<i8'), ('ip', 'O'), ('finger', 'O'), ('hash', 'O'), ('name', 'O'), ('race', 'O'), ('background', 'O'), ('date', 'O'), ('class', 'O'), ('justClass', 'O'), ('subclass', 'O'), ('level', '<i8'), ('feats', 'O'), ('HP', '<i8'), ('AC', '<i8'), ('Str', '<i8'), ('Dex', '<i8'), ('Con', '<i8'), ('Int', '<i8'), ('Wis', '<i8'), ('Cha', '<i8'), ('alignment', 'O'), ('skills', 'O'), ('weapons', 'O'), ('spells', 'O'), ('castingStat', 'O'), ('choices', 'O'), ('country', 'O'), ('countryCode', 'O'), ('processedAlignment', 'O'), ('good', '<f8'), ('lawful', '<f8'), ('processedRace', 'O'), ('processedSpells', 'O'), ('processedWeapons', 'O'), ('alias', 'O')])"
      ]
     },
     "execution_count": 5,
     "metadata": {},
     "output_type": "execute_result"
    }
   ],
   "source": [
    "df_example.head().to_records()"
   ]
  },
  {
   "cell_type": "code",
   "execution_count": 4,
   "metadata": {},
   "outputs": [
    {
     "data": {
      "text/plain": [
       "Index(['ip', 'finger', 'hash', 'name', 'race', 'background', 'date', 'class',\n",
       "       'justClass', 'subclass', 'level', 'feats', 'HP', 'AC', 'Str', 'Dex',\n",
       "       'Con', 'Int', 'Wis', 'Cha', 'alignment', 'skills', 'weapons', 'spells',\n",
       "       'castingStat', 'choices', 'country', 'countryCode',\n",
       "       'processedAlignment', 'good', 'lawful', 'processedRace',\n",
       "       'processedSpells', 'processedWeapons', 'alias'],\n",
       "      dtype='object')"
      ]
     },
     "execution_count": 4,
     "metadata": {},
     "output_type": "execute_result"
    }
   ],
   "source": [
    "df_example.columns"
   ]
  },
  {
   "cell_type": "code",
   "execution_count": 10,
   "metadata": {},
   "outputs": [],
   "source": [
    "import numpy as np\n",
    "from shortuuid import ShortUUID\n",
    "from uuid import uuid4\n",
    "df_example = pd.DataFrame(data = [(np.nan, ShortUUID().random(length = 7), uuid4().hex, ShortUUID().random(length = 7), 'Hill Dwarf',\n",
    "                                'Guild Member - Justice', '2022-08-23T20:02:11Z', 'Sorcerer 13|Cleric 1', 'Sorcerer|Cleric', 'Clockwork Soul|Order Domain', 14, \n",
    "                                'Fey Touched|War Caster|Metamagic Adept', 146, 10,  9, 11, 20, 14, 14, 20, np.nan, 'Arcana|Religion|Intimidation', 'Crossbow, light|Dagger', \n",
    "                                'Alarm*1|Protection from Evil and Good*1|Command*1|Heroism*1|Aid*2|Lesser Restoration*2|Dispel Magic*3|Protection from Energy*3|Freedom of Movement*4|Summon Construct*4|Greater Restoration*5|Wall of Force*5',\n",
    "                                'Cha', 'metamagic/Twinned Spell*Subtle Spell*Quickened Spell*Extended Spell', 'Canada', 'CA', np.nan, np.nan, np.nan, 'Dwarf', \n",
    "                                'Alarm*1|Protection from Evil and Good*1|Command*1|Heroism*1|Aid*2|Lesser Restoration*2|Dispel Magic*3|Protection from Energy*3|Freedom of Movement*4|*|Greater Restoration*5|Wall of Force*5', \n",
    "                                'Crossbow, Light|Dagger', 'thirsty_davinci'),\n",
    "                                (ShortUUID().random(length = 7), ShortUUID().random(length = 7), uuid4().hex, ShortUUID().random(length = 7), 'Hill Dwarf', \n",
    "                                 'Guild Member - Justice', '2022-08-23T19:43:25Z', 'Sorcerer 13|Cleric 1', 'Sorcerer|Cleric', 'Clockwork Soul|Order Domain', 14, np.nan, 133, 10, \n",
    "                                 9, 11, 18, 14, 14, 20, np.nan, 'Arcana|Religion|Intimidation', 'Crossbow, light|Dagger', \n",
    "                                 'Alarm*1|Protection from Evil and Good*1|Command*1|Heroism*1|Aid*2|Lesser Restoration*2|Dispel Magic*3|Protection from Energy*3|Freedom of Movement*4|Summon Construct*4|Greater Restoration*5|Wall of Force*5',\n",
    "                                 'Cha', 'metamagic/Twinned Spell*Subtle Spell*Quickened Spell', 'Canada', 'CA', np.nan, np.nan, np.nan, 'Dwarf', \n",
    "                                 'Alarm*1|Protection from Evil and Good*1|Command*1|Heroism*1|Aid*2|Lesser Restoration*2|Dispel Magic*3|Protection from Energy*3|Freedom of Movement*4|*|Greater Restoration*5|Wall of Force*5', \n",
    "                                 'Crossbow, Light|Dagger', 'thirsty_davinci'),\n",
    "                                (ShortUUID().random(length = 7), ShortUUID().random(length = 7), uuid4().hex, ShortUUID().random(length = 7), 'Human', 'Noble', '2022-08-22T14:57:09Z', \n",
    "                                 'Fighter 13', 'Fighter', 'Eldritch Knight', 13, 'Heavy Armor Master', 140, 21, 20, 12, 19, 14, 11, 10, 'CG', 'History|Insight|Perception|Persuasion', \n",
    "                                 'Longsword +1|Dagger|Crossbow, light|Mace Of Disruption ', \n",
    "                                 'Prestidigitation*0|Mage Hand*0|Blade Ward*0|Light*0|Alarm*1|Burning Hands*1|Unseen Servant*1|Chromatic Orb*1|Magic Missile*1|Identify*1|Detect Magic*1|Absorb Elements*1|Armor of Agathys*1|Shatter*2|Misty Step*2|Enlarge/Reduce*2|Catnap*3',\n",
    "                                 'Int', 'fighting style/Defense', 'United States', 'US', 'CG', np.nan, np.nan, 'Human', \n",
    "                                 'Prestidigitation*0|Mage Hand*0|Blade Ward*0|Light*0|Alarm*1|Burning Hands*1|Unseen Servant*1|Chromatic Orb*1|Magic Missile*1|Identify*1|Detect Magic*1|Absorb Elements*1|Armor of Agathys*1|Shatter*2|Misty Step*2|Enlarge/Reduce*2|Catnap*3', \n",
    "                                 'Longsword|Dagger|Crossbow, Light|Mace', 'cool_bhabha'),\n",
    "                                 (ShortUUID().random(length = 7), ShortUUID().random(length = 7), uuid4().hex, ShortUUID().random(length = 7), 'Githyanki', 'Charlatan', '2022-06-15T13:57:19Z',\n",
    "                                  None, None, None, np.nan, None, np.nan, np.nan, np.nan, np.nan, np.nan, np.nan, np.nan, np.nan, 'CG', 'History|Insight|Perception|Persuasion',\n",
    "                                  None, None, 'Str', None, 'Madagascar', 'MG', None, np.nan, np.nan, 'Githyanki', None,'Longsword|Dagger|Crossbow, Light|Crossbow', 'xxErrorxx123')], \n",
    "                            columns = ['ip', 'finger', 'hash', 'name', 'race', 'background', 'date', 'class',\n",
    "                                        'justClass', 'subclass', 'level', 'feats', 'HP', 'AC', 'Str', 'Dex',\n",
    "                                        'Con', 'Int', 'Wis', 'Cha', 'alignment', 'skills', 'weapons', 'spells',\n",
    "                                        'castingStat', 'choices', 'country', 'countryCode',\n",
    "                                        'processedAlignment', 'good', 'lawful', 'processedRace',\n",
    "                                        'processedSpells', 'processedWeapons', 'alias'])"
   ]
  },
  {
   "cell_type": "code",
   "execution_count": 11,
   "metadata": {},
   "outputs": [
    {
     "data": {
      "text/html": [
       "<div>\n",
       "<style scoped>\n",
       "    .dataframe tbody tr th:only-of-type {\n",
       "        vertical-align: middle;\n",
       "    }\n",
       "\n",
       "    .dataframe tbody tr th {\n",
       "        vertical-align: top;\n",
       "    }\n",
       "\n",
       "    .dataframe thead th {\n",
       "        text-align: right;\n",
       "    }\n",
       "</style>\n",
       "<table border=\"1\" class=\"dataframe\">\n",
       "  <thead>\n",
       "    <tr style=\"text-align: right;\">\n",
       "      <th></th>\n",
       "      <th>ip</th>\n",
       "      <th>finger</th>\n",
       "      <th>hash</th>\n",
       "      <th>name</th>\n",
       "      <th>race</th>\n",
       "      <th>background</th>\n",
       "      <th>date</th>\n",
       "      <th>class</th>\n",
       "      <th>justClass</th>\n",
       "      <th>subclass</th>\n",
       "      <th>...</th>\n",
       "      <th>choices</th>\n",
       "      <th>country</th>\n",
       "      <th>countryCode</th>\n",
       "      <th>processedAlignment</th>\n",
       "      <th>good</th>\n",
       "      <th>lawful</th>\n",
       "      <th>processedRace</th>\n",
       "      <th>processedSpells</th>\n",
       "      <th>processedWeapons</th>\n",
       "      <th>alias</th>\n",
       "    </tr>\n",
       "  </thead>\n",
       "  <tbody>\n",
       "    <tr>\n",
       "      <th>0</th>\n",
       "      <td>NaN</td>\n",
       "      <td>8CTmftK</td>\n",
       "      <td>862d14022d6b457e876723a2763ea1ff</td>\n",
       "      <td>EqP5A5t</td>\n",
       "      <td>Hill Dwarf</td>\n",
       "      <td>Guild Member - Justice</td>\n",
       "      <td>2022-08-23T20:02:11Z</td>\n",
       "      <td>Sorcerer 13|Cleric 1</td>\n",
       "      <td>Sorcerer|Cleric</td>\n",
       "      <td>Clockwork Soul|Order Domain</td>\n",
       "      <td>...</td>\n",
       "      <td>metamagic/Twinned Spell*Subtle Spell*Quickened...</td>\n",
       "      <td>Canada</td>\n",
       "      <td>CA</td>\n",
       "      <td>NaN</td>\n",
       "      <td>NaN</td>\n",
       "      <td>NaN</td>\n",
       "      <td>Dwarf</td>\n",
       "      <td>Alarm*1|Protection from Evil and Good*1|Comman...</td>\n",
       "      <td>Crossbow, Light|Dagger</td>\n",
       "      <td>thirsty_davinci</td>\n",
       "    </tr>\n",
       "    <tr>\n",
       "      <th>1</th>\n",
       "      <td>JjqAWty</td>\n",
       "      <td>8aP9TD8</td>\n",
       "      <td>9c4483a2ed7743c5847b8907b4202258</td>\n",
       "      <td>XXiYsvn</td>\n",
       "      <td>Hill Dwarf</td>\n",
       "      <td>Guild Member - Justice</td>\n",
       "      <td>2022-08-23T19:43:25Z</td>\n",
       "      <td>Sorcerer 13|Cleric 1</td>\n",
       "      <td>Sorcerer|Cleric</td>\n",
       "      <td>Clockwork Soul|Order Domain</td>\n",
       "      <td>...</td>\n",
       "      <td>metamagic/Twinned Spell*Subtle Spell*Quickened...</td>\n",
       "      <td>Canada</td>\n",
       "      <td>CA</td>\n",
       "      <td>NaN</td>\n",
       "      <td>NaN</td>\n",
       "      <td>NaN</td>\n",
       "      <td>Dwarf</td>\n",
       "      <td>Alarm*1|Protection from Evil and Good*1|Comman...</td>\n",
       "      <td>Crossbow, Light|Dagger</td>\n",
       "      <td>thirsty_davinci</td>\n",
       "    </tr>\n",
       "    <tr>\n",
       "      <th>2</th>\n",
       "      <td>TKqKuYt</td>\n",
       "      <td>pvE3i9M</td>\n",
       "      <td>472876a3f10e489fb54bb33ab748a3ce</td>\n",
       "      <td>XhAzKsw</td>\n",
       "      <td>Human</td>\n",
       "      <td>Noble</td>\n",
       "      <td>2022-08-22T14:57:09Z</td>\n",
       "      <td>Fighter 13</td>\n",
       "      <td>Fighter</td>\n",
       "      <td>Eldritch Knight</td>\n",
       "      <td>...</td>\n",
       "      <td>fighting style/Defense</td>\n",
       "      <td>United States</td>\n",
       "      <td>US</td>\n",
       "      <td>CG</td>\n",
       "      <td>NaN</td>\n",
       "      <td>NaN</td>\n",
       "      <td>Human</td>\n",
       "      <td>Prestidigitation*0|Mage Hand*0|Blade Ward*0|Li...</td>\n",
       "      <td>Longsword|Dagger|Crossbow, Light|Mace</td>\n",
       "      <td>cool_bhabha</td>\n",
       "    </tr>\n",
       "    <tr>\n",
       "      <th>3</th>\n",
       "      <td>QpV7eJA</td>\n",
       "      <td>PMAodHA</td>\n",
       "      <td>5bec125930274b97b7f8e3c94f9ab57b</td>\n",
       "      <td>Rwqgh3U</td>\n",
       "      <td>Githyanki</td>\n",
       "      <td>Charlatan</td>\n",
       "      <td>2022-06-15T13:57:19Z</td>\n",
       "      <td>None</td>\n",
       "      <td>None</td>\n",
       "      <td>None</td>\n",
       "      <td>...</td>\n",
       "      <td>None</td>\n",
       "      <td>Madagascar</td>\n",
       "      <td>MG</td>\n",
       "      <td>None</td>\n",
       "      <td>NaN</td>\n",
       "      <td>NaN</td>\n",
       "      <td>Githyanki</td>\n",
       "      <td>None</td>\n",
       "      <td>Longsword|Dagger|Crossbow, Light|Crossbow</td>\n",
       "      <td>xxErrorxx123</td>\n",
       "    </tr>\n",
       "  </tbody>\n",
       "</table>\n",
       "<p>4 rows × 35 columns</p>\n",
       "</div>"
      ],
      "text/plain": [
       "        ip   finger                              hash     name        race  \\\n",
       "0      NaN  8CTmftK  862d14022d6b457e876723a2763ea1ff  EqP5A5t  Hill Dwarf   \n",
       "1  JjqAWty  8aP9TD8  9c4483a2ed7743c5847b8907b4202258  XXiYsvn  Hill Dwarf   \n",
       "2  TKqKuYt  pvE3i9M  472876a3f10e489fb54bb33ab748a3ce  XhAzKsw       Human   \n",
       "3  QpV7eJA  PMAodHA  5bec125930274b97b7f8e3c94f9ab57b  Rwqgh3U   Githyanki   \n",
       "\n",
       "               background                  date                 class  \\\n",
       "0  Guild Member - Justice  2022-08-23T20:02:11Z  Sorcerer 13|Cleric 1   \n",
       "1  Guild Member - Justice  2022-08-23T19:43:25Z  Sorcerer 13|Cleric 1   \n",
       "2                   Noble  2022-08-22T14:57:09Z            Fighter 13   \n",
       "3               Charlatan  2022-06-15T13:57:19Z                  None   \n",
       "\n",
       "         justClass                     subclass  ...  \\\n",
       "0  Sorcerer|Cleric  Clockwork Soul|Order Domain  ...   \n",
       "1  Sorcerer|Cleric  Clockwork Soul|Order Domain  ...   \n",
       "2          Fighter              Eldritch Knight  ...   \n",
       "3             None                         None  ...   \n",
       "\n",
       "                                             choices        country  \\\n",
       "0  metamagic/Twinned Spell*Subtle Spell*Quickened...         Canada   \n",
       "1  metamagic/Twinned Spell*Subtle Spell*Quickened...         Canada   \n",
       "2                             fighting style/Defense  United States   \n",
       "3                                               None     Madagascar   \n",
       "\n",
       "   countryCode  processedAlignment  good  lawful  processedRace  \\\n",
       "0           CA                 NaN   NaN     NaN          Dwarf   \n",
       "1           CA                 NaN   NaN     NaN          Dwarf   \n",
       "2           US                  CG   NaN     NaN          Human   \n",
       "3           MG                None   NaN     NaN      Githyanki   \n",
       "\n",
       "                                     processedSpells  \\\n",
       "0  Alarm*1|Protection from Evil and Good*1|Comman...   \n",
       "1  Alarm*1|Protection from Evil and Good*1|Comman...   \n",
       "2  Prestidigitation*0|Mage Hand*0|Blade Ward*0|Li...   \n",
       "3                                               None   \n",
       "\n",
       "                            processedWeapons            alias  \n",
       "0                     Crossbow, Light|Dagger  thirsty_davinci  \n",
       "1                     Crossbow, Light|Dagger  thirsty_davinci  \n",
       "2      Longsword|Dagger|Crossbow, Light|Mace      cool_bhabha  \n",
       "3  Longsword|Dagger|Crossbow, Light|Crossbow     xxErrorxx123  \n",
       "\n",
       "[4 rows x 35 columns]"
      ]
     },
     "execution_count": 11,
     "metadata": {},
     "output_type": "execute_result"
    }
   ],
   "source": [
    "df_example"
   ]
  },
  {
   "cell_type": "code",
   "execution_count": 17,
   "metadata": {},
   "outputs": [],
   "source": [
    "def dominantClass(classStr, justClass):\n",
    "    if classStr is None or justClass is None:\n",
    "        return None\n",
    "    i = 0\n",
    "    totalLvl = 0\n",
    "    if '|' not in classStr:\n",
    "        if 'Revised Ranger' in classStr:\n",
    "            return 'Ranger', int(classStr.split(' ')[-1])\n",
    "        else:\n",
    "            return classStr.split(' ')[0], int(classStr.split(' ')[-1])\n",
    "    dClass = ''\n",
    "    for c_lvl in classStr.split('|'):\n",
    "        if 'Revised Ranger' in c_lvl:\n",
    "            c = 'Ranger'\n",
    "            lvl = c_lvl.split(' ')[-1]\n",
    "        else:\n",
    "            try: \n",
    "                c, lvl = c_lvl.split(' ')\n",
    "            except ValueError as ve:\n",
    "                c = SequenceMatcher(None, c_lvl, justClass).find_longest_match()\n",
    "                lvl = c_lvl.split(' ')[-1]\n",
    "        totalLvl += int(lvl)\n",
    "        if int(lvl) > i:\n",
    "            dClass = c\n",
    "            i = int(lvl)\n",
    "    return dClass, totalLvl\n",
    "\n",
    "def data_clean(df):\n",
    "    # Clean the ingested dataframe\n",
    "\n",
    "    realTargets = pd.DataFrame({'target': {0: 'Artificer',  1: 'Barbarian',  2: 'Bard',  4: 'Blood',  5: 'Cleric',  7: 'Druid',  8: 'Fighter',  10: 'Monk',\n",
    "                                                11: 'Mystic',  12: 'Paladin',  13: 'Ranger',  14: 'Rogue',  15: 'Sorcerer',  16: 'Warlock',  17: 'Wizard'},\n",
    "                                    'counts': {0: 218,  1: 943,  2: 736,  4: 24,  5: 995,  7: 728,  8: 1441,  10: 732,  11: 13,  12: 874,  13: 792,  14: 1292,\n",
    "                                            15: 664,  16: 677,  17: 760}})\n",
    "    pre_features = ['HP', 'AC', 'Str', 'Dex', 'Con', 'Int', 'Wis', 'Cha', 'class', 'justClass']\n",
    "    features = ['HP', 'AC', 'Str', 'Dex', 'Con', 'Int', 'Wis', 'Cha', 'level']\n",
    "    target = 'target'\n",
    "    dfDropNA = df[pre_features].dropna(how = 'any')\n",
    "    colList = features + [target]\n",
    "    dfDropNA['target'], dfDropNA['level'] = zip(*dfDropNA[['class', 'justClass']].apply(lambda x: dominantClass(x['class'], x['justClass']), axis = 1))\n",
    "    cleanDf = dfDropNA[colList].merge(realTargets['target'], how = 'inner', on = target)\n",
    "    return cleanDf"
   ]
  },
  {
   "cell_type": "code",
   "execution_count": 18,
   "metadata": {},
   "outputs": [
    {
     "data": {
      "text/plain": [
       "rec.array([(0, 146., 10.,  9., 11., 20., 14., 14., 20., 14, 'Sorcerer'),\n",
       "           (1, 133., 10.,  9., 11., 18., 14., 14., 20., 14, 'Sorcerer'),\n",
       "           (2, 140., 21., 20., 12., 19., 14., 11., 10., 13, 'Fighter')],\n",
       "          dtype=[('index', '<i8'), ('HP', '<f8'), ('AC', '<f8'), ('Str', '<f8'), ('Dex', '<f8'), ('Con', '<f8'), ('Int', '<f8'), ('Wis', '<f8'), ('Cha', '<f8'), ('level', '<i8'), ('target', 'O')])"
      ]
     },
     "execution_count": 18,
     "metadata": {},
     "output_type": "execute_result"
    }
   ],
   "source": [
    "data_clean(df_example).to_records()"
   ]
  },
  {
   "cell_type": "code",
   "execution_count": 22,
   "metadata": {},
   "outputs": [
    {
     "ename": "SyntaxError",
     "evalue": "invalid syntax (1484409829.py, line 7)",
     "output_type": "error",
     "traceback": [
      "\u001b[0;36m  Cell \u001b[0;32mIn[22], line 7\u001b[0;36m\u001b[0m\n\u001b[0;31m    print(assert df_out.compare(expected_df).empty)\u001b[0m\n\u001b[0m          ^\u001b[0m\n\u001b[0;31mSyntaxError\u001b[0m\u001b[0;31m:\u001b[0m invalid syntax\n"
     ]
    }
   ],
   "source": [
    "# data_clean(df_example)\n",
    "expected_df = pd.DataFrame(data = [(146, 10,  9, 11, 20, 14, 14, 20, 14, 'Sorcerer'),\n",
    "                                    (133, 10,  9, 11, 18, 14, 14, 20, 14, 'Sorcerer'),\n",
    "                                    (140, 21, 20, 12, 19, 14, 11, 10, 13, 'Fighter')],\n",
    "                                columns = ['HP', 'AC', 'Str', 'Dex', 'Con', 'Int', 'Wis', 'Cha', 'level', 'target'])\n",
    "df_out = data_clean(df_example)\n",
    "assert df_out.compare(expected_df).empty"
   ]
  },
  {
   "cell_type": "code",
   "execution_count": 36,
   "metadata": {},
   "outputs": [
    {
     "data": {
      "text/plain": [
       "True"
      ]
     },
     "execution_count": 36,
     "metadata": {},
     "output_type": "execute_result"
    }
   ],
   "source": [
    "# x1 = sum(df_out.columns == ['HP', 'AC', 'Str', 'Dex', 'Con', 'Int', 'Wis', 'Cha', 'level', 'target']) == 10\n",
    "# x1\n",
    "y_train = df_out.loc[:, 'target']\n",
    "y_train.name == 'target'"
   ]
  }
 ],
 "metadata": {
  "kernelspec": {
   "display_name": "DnDClassClassification-xWHPWLXO",
   "language": "python",
   "name": "python3"
  },
  "language_info": {
   "codemirror_mode": {
    "name": "ipython",
    "version": 3
   },
   "file_extension": ".py",
   "mimetype": "text/x-python",
   "name": "python",
   "nbconvert_exporter": "python",
   "pygments_lexer": "ipython3",
   "version": "3.10.13"
  }
 },
 "nbformat": 4,
 "nbformat_minor": 2
}
